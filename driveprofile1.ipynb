{
 "cells": [
  {
   "cell_type": "code",
   "execution_count": 83,
   "metadata": {
    "collapsed": false
   },
   "outputs": [
    {
     "data": {
      "text/plain": [
       "[<matplotlib.lines.Line2D at 0x7f28a9bcb9e8>,\n",
       " <matplotlib.lines.Line2D at 0x7f28a9bcbd30>]"
      ]
     },
     "execution_count": 83,
     "metadata": {},
     "output_type": "execute_result"
    },
    {
     "data": {
      "image/png": "[encoded data removed]",
      "text/plain": [
       "<matplotlib.figure.Figure at 0x7f28a9c92c18>"
      ]
     },
     "metadata": {},
     "output_type": "display_data"
    }
   ],
   "source": [
    "%matplotlib inline\n",
    "import matplotlib.pyplot as plt\n",
    "import numpy as np\n",
    "import math\n",
    "\n",
    "def signmod(a, b):\n",
    "    return math.copysign(a % b, a)\n",
    "\n",
    "def throttle_angle_to_thrust_left(r, theta):\n",
    "    if (-math.pi/4) <= theta <= (3*math.pi/4):\n",
    "        v_a = r * (math.pi/4 - theta) / (math.pi/2)\n",
    "    elif theta < -math.pi/4:\n",
    "        v_a = r * (theta + 3*math.pi/4) / (math.pi/2)\n",
    "    elif theta > 3*math.pi/4:\n",
    "        v_a = r * (theta - 5*math.pi/4) / (math.pi/2)\n",
    "    return v_a\n",
    "def throttle_angle_to_thrust_right(r, theta):\n",
    "    v_a = 0\n",
    "    if (math.pi/4) >= theta >= -(3*math.pi/4):\n",
    "        v_a = r * (math.pi/4 + theta) / (math.pi/2)\n",
    "    elif theta > math.pi/4:\n",
    "        v_a = r * (-theta + 3*math.pi/4) / (math.pi/2)\n",
    "    elif theta < -3*math.pi/4:\n",
    "        v_a = r * (-theta - 5*math.pi/4) / (math.pi/2)\n",
    "    return v_a\n",
    "ths = range(-180, 180, 1)\n",
    "s = (lambda th: throttle_angle_to_thrust_left(0.5, math.radians(th)))\n",
    "s2 = (lambda th: throttle_angle_to_thrust_right(0.5, math.radians(th)))\n",
    "x = list(map(s, ths))\n",
    "y = list(map(s2, ths))\n",
    "plt.plot( ths, x, 'r', ths, y, 'b')"
   ]
  },
  {
   "cell_type": "code",
   "execution_count": 45,
   "metadata": {
    "collapsed": false
   },
   "outputs": [
    {
     "data": {
      "text/plain": [
       "1.5707963267948966"
      ]
     },
     "execution_count": 45,
     "metadata": {},
     "output_type": "execute_result"
    }
   ],
   "source": [
    "math.radians(90)\n"
   ]
  },
  {
   "cell_type": "code",
   "execution_count": 46,
   "metadata": {
    "collapsed": false
   },
   "outputs": [
    {
     "data": {
      "text/plain": [
       "array([-180, -179, -178, -177, -176, -175, -174, -173, -172, -171, -170,\n",
       "       -169, -168, -167, -166, -165, -164, -163, -162, -161, -160, -159,\n",
       "       -158, -157, -156, -155, -154, -153, -152, -151, -150, -149, -148,\n",
       "       -147, -146, -145, -144, -143, -142, -141, -140, -139, -138, -137,\n",
       "       -136, -135, -134, -133, -132, -131, -130, -129, -128, -127, -126,\n",
       "       -125, -124, -123, -122, -121, -120, -119, -118, -117, -116, -115,\n",
       "       -114, -113, -112, -111, -110, -109, -108, -107, -106, -105, -104,\n",
       "       -103, -102, -101, -100,  -99,  -98,  -97,  -96,  -95,  -94,  -93,\n",
       "        -92,  -91,  -90,  -89,  -88,  -87,  -86,  -85,  -84,  -83,  -82,\n",
       "        -81,  -80,  -79,  -78,  -77,  -76,  -75,  -74,  -73,  -72,  -71,\n",
       "        -70,  -69,  -68,  -67,  -66,  -65,  -64,  -63,  -62,  -61,  -60,\n",
       "        -59,  -58,  -57,  -56,  -55,  -54,  -53,  -52,  -51,  -50,  -49,\n",
       "        -48,  -47,  -46,  -45,  -44,  -43,  -42,  -41,  -40,  -39,  -38,\n",
       "        -37,  -36,  -35,  -34,  -33,  -32,  -31,  -30,  -29,  -28,  -27,\n",
       "        -26,  -25,  -24,  -23,  -22,  -21,  -20,  -19,  -18,  -17,  -16,\n",
       "        -15,  -14,  -13,  -12,  -11,  -10,   -9,   -8,   -7,   -6,   -5,\n",
       "         -4,   -3,   -2,   -1,    0,    1,    2,    3,    4,    5,    6,\n",
       "          7,    8,    9,   10,   11,   12,   13,   14,   15,   16,   17,\n",
       "         18,   19,   20,   21,   22,   23,   24,   25,   26,   27,   28,\n",
       "         29,   30,   31,   32,   33,   34,   35,   36,   37,   38,   39,\n",
       "         40,   41,   42,   43,   44,   45,   46,   47,   48,   49,   50,\n",
       "         51,   52,   53,   54,   55,   56,   57,   58,   59,   60,   61,\n",
       "         62,   63,   64,   65,   66,   67,   68,   69,   70,   71,   72,\n",
       "         73,   74,   75,   76,   77,   78,   79,   80,   81,   82,   83,\n",
       "         84,   85,   86,   87,   88,   89,   90,   91,   92,   93,   94,\n",
       "         95,   96,   97,   98,   99,  100,  101,  102,  103,  104,  105,\n",
       "        106,  107,  108,  109,  110,  111,  112,  113,  114,  115,  116,\n",
       "        117,  118,  119,  120,  121,  122,  123,  124,  125,  126,  127,\n",
       "        128,  129,  130,  131,  132,  133,  134,  135,  136,  137,  138,\n",
       "        139,  140,  141,  142,  143,  144,  145,  146,  147,  148,  149,\n",
       "        150,  151,  152,  153,  154,  155,  156,  157,  158,  159,  160,\n",
       "        161,  162,  163,  164,  165,  166,  167,  168,  169,  170,  171,\n",
       "        172,  173,  174,  175,  176,  177,  178,  179])"
      ]
     },
     "execution_count": 46,
     "metadata": {},
     "output_type": "execute_result"
    }
   ],
   "source": [
    "ths"
   ]
  },
  {
   "cell_type": "code",
   "execution_count": 47,
   "metadata": {
    "collapsed": true
   },
   "outputs": [],
   "source": [
    "t = np.vectorize(math.radians)"
   ]
  },
  {
   "cell_type": "code",
   "execution_count": 48,
   "metadata": {
    "collapsed": false
   },
   "outputs": [
    {
     "data": {
      "text/plain": [
       "array([-3.14159265, -3.12413936, -3.10668607, -3.08923278, -3.07177948,\n",
       "       -3.05432619, -3.0368729 , -3.01941961, -3.00196631, -2.98451302,\n",
       "       -2.96705973, -2.94960644, -2.93215314, -2.91469985, -2.89724656,\n",
       "       -2.87979327, -2.86233997, -2.84488668, -2.82743339, -2.8099801 ,\n",
       "       -2.7925268 , -2.77507351, -2.75762022, -2.74016693, -2.72271363,\n",
       "       -2.70526034, -2.68780705, -2.67035376, -2.65290046, -2.63544717,\n",
       "       -2.61799388, -2.60054059, -2.58308729, -2.565634  , -2.54818071,\n",
       "       -2.53072742, -2.51327412, -2.49582083, -2.47836754, -2.46091425,\n",
       "       -2.44346095, -2.42600766, -2.40855437, -2.39110108, -2.37364778,\n",
       "       -2.35619449, -2.3387412 , -2.32128791, -2.30383461, -2.28638132,\n",
       "       -2.26892803, -2.25147474, -2.23402144, -2.21656815, -2.19911486,\n",
       "       -2.18166156, -2.16420827, -2.14675498, -2.12930169, -2.11184839,\n",
       "       -2.0943951 , -2.07694181, -2.05948852, -2.04203522, -2.02458193,\n",
       "       -2.00712864, -1.98967535, -1.97222205, -1.95476876, -1.93731547,\n",
       "       -1.91986218, -1.90240888, -1.88495559, -1.8675023 , -1.85004901,\n",
       "       -1.83259571, -1.81514242, -1.79768913, -1.78023584, -1.76278254,\n",
       "       -1.74532925, -1.72787596, -1.71042267, -1.69296937, -1.67551608,\n",
       "       -1.65806279, -1.6406095 , -1.6231562 , -1.60570291, -1.58824962,\n",
       "       -1.57079633, -1.55334303, -1.53588974, -1.51843645, -1.50098316,\n",
       "       -1.48352986, -1.46607657, -1.44862328, -1.43116999, -1.41371669,\n",
       "       -1.3962634 , -1.37881011, -1.36135682, -1.34390352, -1.32645023,\n",
       "       -1.30899694, -1.29154365, -1.27409035, -1.25663706, -1.23918377,\n",
       "       -1.22173048, -1.20427718, -1.18682389, -1.1693706 , -1.15191731,\n",
       "       -1.13446401, -1.11701072, -1.09955743, -1.08210414, -1.06465084,\n",
       "       -1.04719755, -1.02974426, -1.01229097, -0.99483767, -0.97738438,\n",
       "       -0.95993109, -0.9424778 , -0.9250245 , -0.90757121, -0.89011792,\n",
       "       -0.87266463, -0.85521133, -0.83775804, -0.82030475, -0.80285146,\n",
       "       -0.78539816, -0.76794487, -0.75049158, -0.73303829, -0.71558499,\n",
       "       -0.6981317 , -0.68067841, -0.66322512, -0.64577182, -0.62831853,\n",
       "       -0.61086524, -0.59341195, -0.57595865, -0.55850536, -0.54105207,\n",
       "       -0.52359878, -0.50614548, -0.48869219, -0.4712389 , -0.45378561,\n",
       "       -0.43633231, -0.41887902, -0.40142573, -0.38397244, -0.36651914,\n",
       "       -0.34906585, -0.33161256, -0.31415927, -0.29670597, -0.27925268,\n",
       "       -0.26179939, -0.2443461 , -0.2268928 , -0.20943951, -0.19198622,\n",
       "       -0.17453293, -0.15707963, -0.13962634, -0.12217305, -0.10471976,\n",
       "       -0.08726646, -0.06981317, -0.05235988, -0.03490659, -0.01745329,\n",
       "        0.        ,  0.01745329,  0.03490659,  0.05235988,  0.06981317,\n",
       "        0.08726646,  0.10471976,  0.12217305,  0.13962634,  0.15707963,\n",
       "        0.17453293,  0.19198622,  0.20943951,  0.2268928 ,  0.2443461 ,\n",
       "        0.26179939,  0.27925268,  0.29670597,  0.31415927,  0.33161256,\n",
       "        0.34906585,  0.36651914,  0.38397244,  0.40142573,  0.41887902,\n",
       "        0.43633231,  0.45378561,  0.4712389 ,  0.48869219,  0.50614548,\n",
       "        0.52359878,  0.54105207,  0.55850536,  0.57595865,  0.59341195,\n",
       "        0.61086524,  0.62831853,  0.64577182,  0.66322512,  0.68067841,\n",
       "        0.6981317 ,  0.71558499,  0.73303829,  0.75049158,  0.76794487,\n",
       "        0.78539816,  0.80285146,  0.82030475,  0.83775804,  0.85521133,\n",
       "        0.87266463,  0.89011792,  0.90757121,  0.9250245 ,  0.9424778 ,\n",
       "        0.95993109,  0.97738438,  0.99483767,  1.01229097,  1.02974426,\n",
       "        1.04719755,  1.06465084,  1.08210414,  1.09955743,  1.11701072,\n",
       "        1.13446401,  1.15191731,  1.1693706 ,  1.18682389,  1.20427718,\n",
       "        1.22173048,  1.23918377,  1.25663706,  1.27409035,  1.29154365,\n",
       "        1.30899694,  1.32645023,  1.34390352,  1.36135682,  1.37881011,\n",
       "        1.3962634 ,  1.41371669,  1.43116999,  1.44862328,  1.46607657,\n",
       "        1.48352986,  1.50098316,  1.51843645,  1.53588974,  1.55334303,\n",
       "        1.57079633,  1.58824962,  1.60570291,  1.6231562 ,  1.6406095 ,\n",
       "        1.65806279,  1.67551608,  1.69296937,  1.71042267,  1.72787596,\n",
       "        1.74532925,  1.76278254,  1.78023584,  1.79768913,  1.81514242,\n",
       "        1.83259571,  1.85004901,  1.8675023 ,  1.88495559,  1.90240888,\n",
       "        1.91986218,  1.93731547,  1.95476876,  1.97222205,  1.98967535,\n",
       "        2.00712864,  2.02458193,  2.04203522,  2.05948852,  2.07694181,\n",
       "        2.0943951 ,  2.11184839,  2.12930169,  2.14675498,  2.16420827,\n",
       "        2.18166156,  2.19911486,  2.21656815,  2.23402144,  2.25147474,\n",
       "        2.26892803,  2.28638132,  2.30383461,  2.32128791,  2.3387412 ,\n",
       "        2.35619449,  2.37364778,  2.39110108,  2.40855437,  2.42600766,\n",
       "        2.44346095,  2.46091425,  2.47836754,  2.49582083,  2.51327412,\n",
       "        2.53072742,  2.54818071,  2.565634  ,  2.58308729,  2.60054059,\n",
       "        2.61799388,  2.63544717,  2.65290046,  2.67035376,  2.68780705,\n",
       "        2.70526034,  2.72271363,  2.74016693,  2.75762022,  2.77507351,\n",
       "        2.7925268 ,  2.8099801 ,  2.82743339,  2.84488668,  2.86233997,\n",
       "        2.87979327,  2.89724656,  2.91469985,  2.93215314,  2.94960644,\n",
       "        2.96705973,  2.98451302,  3.00196631,  3.01941961,  3.0368729 ,\n",
       "        3.05432619,  3.07177948,  3.08923278,  3.10668607,  3.12413936])"
      ]
     },
     "execution_count": 48,
     "metadata": {},
     "output_type": "execute_result"
    }
   ],
   "source": [
    "t(ths)"
   ]
  },
  {
   "cell_type": "code",
   "execution_count": null,
   "metadata": {
    "collapsed": true
   },
   "outputs": [],
   "source": []
  }
 ],
 "metadata": {
  "kernelspec": {
   "display_name": "Python 3",
   "language": "python",
   "name": "python3"
  },
  "language_info": {
   "codemirror_mode": {
    "name": "ipython",
    "version": 3
   },
   "file_extension": ".py",
   "mimetype": "text/x-python",
   "name": "python",
   "nbconvert_exporter": "python",
   "pygments_lexer": "ipython3",
   "version": "3.4.3"
  }
 },
 "nbformat": 4,
 "nbformat_minor": 0
}
